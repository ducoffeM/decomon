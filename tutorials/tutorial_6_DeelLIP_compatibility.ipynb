{
 "cells": [
  {
   "cell_type": "code",
   "execution_count": null,
   "id": "6cf3e7cf",
   "metadata": {},
   "outputs": [],
   "source": [
    "import numpy as np\n",
    "import tensorflow as tf\n",
    "import tensorflow.keras.backend as K\n",
    "from deel.lip.activations import GroupSort2\n",
    "from deel.lip.layers import (\n",
    "    FrobeniusDense,\n",
    "    ScaledL2NormPooling2D,\n",
    "    SpectralConv2D,\n",
    "    SpectralDense,\n",
    ")\n",
    "from deel.lip.losses import MulticlassHKR, MulticlassKR\n",
    "from deel.lip.model import Sequential\n",
    "from tensorflow.keras.datasets import mnist\n",
    "from tensorflow.keras.layers import Flatten, Input\n",
    "from tensorflow.keras.optimizers import Adam\n",
    "from tensorflow.keras.utils import to_categorical"
   ]
  },
  {
   "cell_type": "code",
   "execution_count": null,
   "id": "7f6c9fa7",
   "metadata": {},
   "outputs": [],
   "source": [
    "layers = [\n",
    "    SpectralDense(100, kernel_initializer=\"orthogonal\"),\n",
    "    GroupSort2(),\n",
    "    SpectralDense(100, kernel_initializer=\"orthogonal\"),\n",
    "    GroupSort2(),\n",
    "    SpectralDense(32, kernel_initializer=\"orthogonal\"),\n",
    "    GroupSort2(),\n",
    "    FrobeniusDense(10, activation=None, use_bias=False, kernel_initializer=\"orthogonal\"),\n",
    "]\n",
    "\n",
    "model = Sequential(\n",
    "    layers,\n",
    "    k_coef_lip=1.0,\n",
    "    name=\"hkr_model\",\n",
    ")"
   ]
  },
  {
   "cell_type": "code",
   "execution_count": null,
   "id": "a7b084b4",
   "metadata": {},
   "outputs": [],
   "source": [
    "model.compile(\n",
    "    # decreasing alpha and increasing min_margin improve robustness (at the cost of accuracy)\n",
    "    # note also in the case of lipschitz networks, more robustness require more parameters.\n",
    "    loss=MulticlassHKR(alpha=50, min_margin=0.05),\n",
    "    optimizer=Adam(1e-3),\n",
    "    metrics=[\"accuracy\", MulticlassKR()],\n",
    ")\n",
    "\n",
    "\n",
    "# load data\n",
    "(x_train, y_train), (x_test, y_test) = mnist.load_data()\n",
    "# standardize and reshape the data\n",
    "x_train = np.expand_dims(x_train, -1)\n",
    "mean = x_train.mean()\n",
    "std = x_train.std()\n",
    "x_train = (x_train - mean) / std\n",
    "x_test = np.expand_dims(x_test, -1)\n",
    "x_test = (x_test - mean) / std\n",
    "# one hot encode the labels\n",
    "y_train = to_categorical(y_train)\n",
    "y_test = to_categorical(y_test)\n",
    "\n",
    "x_train = np.reshape(x_train, (-1, 784))\n",
    "x_test = np.reshape(x_test, (-1, 784))"
   ]
  },
  {
   "cell_type": "code",
   "execution_count": null,
   "id": "5d00a9c3",
   "metadata": {},
   "outputs": [],
   "source": [
    "# fit the model\n",
    "model.fit(\n",
    "    x_train,\n",
    "    y_train,\n",
    "    batch_size=128,\n",
    "    epochs=10,\n",
    "    validation_data=(x_test, y_test),\n",
    "    shuffle=True,\n",
    "    verbose=0,\n",
    ")"
   ]
  },
  {
   "cell_type": "code",
   "execution_count": null,
   "id": "d61c86fd",
   "metadata": {},
   "outputs": [],
   "source": [
    "model.evaluate(x_test, y_test)"
   ]
  },
  {
   "cell_type": "code",
   "execution_count": null,
   "id": "b17e3fe8",
   "metadata": {},
   "outputs": [],
   "source": [
    "# once training is finished you can convert\n",
    "# SpectralDense layers into Dense layers and SpectralConv2D into Conv2D\n",
    "# which optimize performance for inference\n",
    "vanilla_model = model.vanilla_export()"
   ]
  },
  {
   "cell_type": "code",
   "execution_count": null,
   "id": "03b84681",
   "metadata": {},
   "outputs": [],
   "source": [
    "vanilla_model.summary()"
   ]
  },
  {
   "cell_type": "code",
   "execution_count": null,
   "id": "874e2bca",
   "metadata": {},
   "outputs": [],
   "source": [
    "from decomon import get_adv_box\n",
    "from decomon.models import clone"
   ]
  },
  {
   "cell_type": "code",
   "execution_count": null,
   "id": "788fb582",
   "metadata": {},
   "outputs": [],
   "source": [
    "C = Input((10, 10))\n",
    "convex_domain = {\"name\": \"ball\", \"p\": 2, \"eps\": tf.Variable(0.0)}"
   ]
  },
  {
   "cell_type": "code",
   "execution_count": null,
   "id": "020e87b8",
   "metadata": {},
   "outputs": [],
   "source": [
    "decomon_model_adv = clone(vanilla_model, back_bounds=[C])"
   ]
  },
  {
   "cell_type": "code",
   "execution_count": null,
   "id": "2a545277",
   "metadata": {},
   "outputs": [],
   "source": [
    "x_min = x_test[:1] - eps_ / 1000\n",
    "x_max = x_test[:1] + eps_ / 1000"
   ]
  },
  {
   "cell_type": "code",
   "execution_count": null,
   "id": "a7954fb4",
   "metadata": {},
   "outputs": [],
   "source": [
    "box = np.concatenate([x_min[:, None], x_max[:, None]], 1)"
   ]
  },
  {
   "cell_type": "code",
   "execution_count": null,
   "id": "895c7050",
   "metadata": {},
   "outputs": [],
   "source": [
    "upper = decomon_model_adv.predict([box, C_i])"
   ]
  },
  {
   "cell_type": "code",
   "execution_count": null,
   "id": "44ce33fb",
   "metadata": {},
   "outputs": [],
   "source": [
    "x_test"
   ]
  },
  {
   "cell_type": "code",
   "execution_count": null,
   "id": "1e373f7c",
   "metadata": {},
   "outputs": [],
   "source": [
    "upper"
   ]
  },
  {
   "cell_type": "markdown",
   "id": "4d17b190",
   "metadata": {},
   "source": [
    "retrive one radis bound"
   ]
  },
  {
   "cell_type": "code",
   "execution_count": null,
   "id": "545b78ad",
   "metadata": {},
   "outputs": [],
   "source": [
    "vanilla_model.predict(x_test[:1]).argmax()"
   ]
  },
  {
   "cell_type": "code",
   "execution_count": null,
   "id": "e639f64a",
   "metadata": {},
   "outputs": [],
   "source": [
    "y_test[:1].argmax()"
   ]
  },
  {
   "cell_type": "code",
   "execution_count": null,
   "id": "66c5acf7",
   "metadata": {},
   "outputs": [],
   "source": [
    "tmp = vanilla_model.predict(x_test[:1])[0]\n",
    "tmp.sort()\n",
    "eps_ = (tmp[-1] - tmp[-2]) / np.sqrt(2)"
   ]
  },
  {
   "cell_type": "code",
   "execution_count": null,
   "id": "d5b72699",
   "metadata": {},
   "outputs": [],
   "source": [
    "K.set_value(convex_domain[\"eps\"], eps_)"
   ]
  },
  {
   "cell_type": "code",
   "execution_count": null,
   "id": "087a9c66",
   "metadata": {},
   "outputs": [],
   "source": [
    "C_ = np.diag([1.0] * 10)[None] - y_test[:, :, None]\n",
    "C_i = C_[:1]"
   ]
  },
  {
   "cell_type": "code",
   "execution_count": null,
   "id": "9cda0191",
   "metadata": {},
   "outputs": [],
   "source": [
    "C_i.shape"
   ]
  },
  {
   "cell_type": "code",
   "execution_count": null,
   "id": "83bea3f4",
   "metadata": {},
   "outputs": [],
   "source": [
    "decomon_model_adv.predict(x_test[:1])"
   ]
  },
  {
   "cell_type": "code",
   "execution_count": null,
   "id": "c2d21648",
   "metadata": {},
   "outputs": [],
   "source": [
    "decomon_model = clone(vanilla_model, method=\"crown\")"
   ]
  },
  {
   "cell_type": "code",
   "execution_count": null,
   "id": "34ba0977",
   "metadata": {},
   "outputs": [],
   "source": []
  },
  {
   "cell_type": "code",
   "execution_count": null,
   "id": "7b594857",
   "metadata": {},
   "outputs": [],
   "source": []
  }
 ],
 "metadata": {
  "kernelspec": {
   "display_name": "Python 3 (ipykernel)",
   "language": "python",
   "name": "python3"
  },
  "language_info": {
   "codemirror_mode": {
    "name": "ipython",
    "version": 3
   },
   "file_extension": ".py",
   "mimetype": "text/x-python",
   "name": "python",
   "nbconvert_exporter": "python",
   "pygments_lexer": "ipython3",
   "version": "3.9.16"
  }
 },
 "nbformat": 4,
 "nbformat_minor": 5
}
