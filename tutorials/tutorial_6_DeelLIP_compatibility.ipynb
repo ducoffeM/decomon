{
 "cells": [
  {
   "cell_type": "code",
   "execution_count": 11,
   "id": "6cf3e7cf",
   "metadata": {},
   "outputs": [],
   "source": [
    "import numpy as np\n",
    "from deel.lip.activations import GroupSort2\n",
    "from deel.lip.layers import (\n",
    "    FrobeniusDense,\n",
    "    ScaledL2NormPooling2D,\n",
    "    SpectralConv2D,\n",
    "    SpectralDense,\n",
    ")\n",
    "from deel.lip.losses import MulticlassHKR, MulticlassKR\n",
    "from deel.lip.model import Sequential\n",
    "from tensorflow.keras.datasets import mnist\n",
    "from tensorflow.keras.layers import Flatten, Input\n",
    "from tensorflow.keras.optimizers import Adam\n",
    "from tensorflow.keras.utils import to_categorical\n",
    "\n",
    "import tensorflow as tf\n",
    "import tensorflow.keras.backend as K"
   ]
  },
  {
   "cell_type": "code",
   "execution_count": 2,
   "id": "7f6c9fa7",
   "metadata": {},
   "outputs": [
    {
     "name": "stderr",
     "output_type": "stream",
     "text": [
      "2023-04-18 17:06:30.296506: I tensorflow/core/platform/cpu_feature_guard.cc:193] This TensorFlow binary is optimized with oneAPI Deep Neural Network Library (oneDNN) to use the following CPU instructions in performance-critical operations:  AVX2 FMA\n",
      "To enable them in other operations, rebuild TensorFlow with the appropriate compiler flags.\n"
     ]
    }
   ],
   "source": [
    "layers = [\n",
    "    SpectralDense(100, kernel_initializer=\"orthogonal\"),\n",
    "    GroupSort2(),\n",
    "    SpectralDense(100, kernel_initializer=\"orthogonal\"),\n",
    "    GroupSort2(),\n",
    "    SpectralDense(32, kernel_initializer=\"orthogonal\"),\n",
    "    GroupSort2(),\n",
    "    FrobeniusDense(10, activation=None, use_bias=False, kernel_initializer=\"orthogonal\"),\n",
    "]\n",
    "\n",
    "model = Sequential(\n",
    "    layers,\n",
    "    k_coef_lip=1.0,\n",
    "    name=\"hkr_model\",\n",
    ")"
   ]
  },
  {
   "cell_type": "code",
   "execution_count": 3,
   "id": "a7b084b4",
   "metadata": {},
   "outputs": [],
   "source": [
    "model.compile(\n",
    "    # decreasing alpha and increasing min_margin improve robustness (at the cost of accuracy)\n",
    "    # note also in the case of lipschitz networks, more robustness require more parameters.\n",
    "    loss=MulticlassHKR(alpha=50, min_margin=0.05),\n",
    "    optimizer=Adam(1e-3),\n",
    "    metrics=[\"accuracy\", MulticlassKR()],\n",
    ")\n",
    "\n",
    "\n",
    "# load data\n",
    "(x_train, y_train), (x_test, y_test) = mnist.load_data()\n",
    "# standardize and reshape the data\n",
    "x_train = np.expand_dims(x_train, -1)\n",
    "mean = x_train.mean()\n",
    "std = x_train.std()\n",
    "x_train = (x_train - mean) / std\n",
    "x_test = np.expand_dims(x_test, -1)\n",
    "x_test = (x_test - mean) / std\n",
    "# one hot encode the labels\n",
    "y_train = to_categorical(y_train)\n",
    "y_test = to_categorical(y_test)\n",
    "\n",
    "x_train = np.reshape(x_train, (-1, 784))\n",
    "x_test = np.reshape(x_test, (-1, 784))"
   ]
  },
  {
   "cell_type": "code",
   "execution_count": 4,
   "id": "5d00a9c3",
   "metadata": {},
   "outputs": [
    {
     "name": "stdout",
     "output_type": "stream",
     "text": [
      "WARNING:tensorflow:From /Users/ducoffe/miniconda3/envs/decomon_dev/lib/python3.9/site-packages/tensorflow/python/autograph/pyct/static_analysis/liveness.py:83: Analyzer.lamba_check (from tensorflow.python.autograph.pyct.static_analysis.liveness) is deprecated and will be removed after 2023-09-23.\n",
      "Instructions for updating:\n",
      "Lambda fuctions will be no more assumed to be used in the statement where they are used, or at least in the same block. https://github.com/tensorflow/tensorflow/issues/56089\n"
     ]
    },
    {
     "data": {
      "text/plain": [
       "<keras.callbacks.History at 0x7f875046f280>"
      ]
     },
     "execution_count": 4,
     "metadata": {},
     "output_type": "execute_result"
    }
   ],
   "source": [
    "# fit the model\n",
    "model.fit(\n",
    "    x_train,\n",
    "    y_train,\n",
    "    batch_size=128,\n",
    "    epochs=10,\n",
    "    validation_data=(x_test, y_test),\n",
    "    shuffle=True,\n",
    "    verbose=0,\n",
    ")"
   ]
  },
  {
   "cell_type": "code",
   "execution_count": 5,
   "id": "d61c86fd",
   "metadata": {},
   "outputs": [
    {
     "name": "stdout",
     "output_type": "stream",
     "text": [
      "313/313 [==============================] - 0s 1ms/step - loss: -9.4709 - accuracy: 0.9698 - MulticlassKR: 11.2979\n"
     ]
    },
    {
     "data": {
      "text/plain": [
       "[-9.470858573913574, 0.9697999954223633, 11.297926902770996]"
      ]
     },
     "execution_count": 5,
     "metadata": {},
     "output_type": "execute_result"
    }
   ],
   "source": [
    "model.evaluate(x_test, y_test)"
   ]
  },
  {
   "cell_type": "code",
   "execution_count": 6,
   "id": "b17e3fe8",
   "metadata": {},
   "outputs": [],
   "source": [
    "# once training is finished you can convert\n",
    "# SpectralDense layers into Dense layers and SpectralConv2D into Conv2D\n",
    "# which optimize performance for inference\n",
    "vanilla_model = model.vanilla_export()"
   ]
  },
  {
   "cell_type": "code",
   "execution_count": 7,
   "id": "03b84681",
   "metadata": {},
   "outputs": [
    {
     "name": "stdout",
     "output_type": "stream",
     "text": [
      "Model: \"hkr_model\"\n",
      "_________________________________________________________________\n",
      " Layer (type)                Output Shape              Param #   \n",
      "=================================================================\n",
      " spectral_dense (Dense)      (None, 100)               78500     \n",
      "                                                                 \n",
      " group_sort2 (GroupSort2)    (None, 100)               0         \n",
      "                                                                 \n",
      " spectral_dense_1 (Dense)    (None, 100)               10100     \n",
      "                                                                 \n",
      " group_sort2_1 (GroupSort2)  (None, 100)               0         \n",
      "                                                                 \n",
      " spectral_dense_2 (Dense)    (None, 32)                3232      \n",
      "                                                                 \n",
      " group_sort2_2 (GroupSort2)  (None, 32)                0         \n",
      "                                                                 \n",
      " frobenius_dense (Dense)     (None, 10)                320       \n",
      "                                                                 \n",
      "=================================================================\n",
      "Total params: 92,152\n",
      "Trainable params: 92,152\n",
      "Non-trainable params: 0\n",
      "_________________________________________________________________\n"
     ]
    }
   ],
   "source": [
    "vanilla_model.summary()"
   ]
  },
  {
   "cell_type": "code",
   "execution_count": 12,
   "id": "874e2bca",
   "metadata": {},
   "outputs": [],
   "source": [
    "from decomon import get_adv_box\n",
    "from decomon.models import clone"
   ]
  },
  {
   "cell_type": "code",
   "execution_count": 27,
   "id": "788fb582",
   "metadata": {},
   "outputs": [],
   "source": [
    "C = Input((10, 10))\n",
    "convex_domain = {\"name\": \"ball\", \"p\": 2, \"eps\": tf.Variable(0.)}"
   ]
  },
  {
   "cell_type": "code",
   "execution_count": 39,
   "id": "020e87b8",
   "metadata": {},
   "outputs": [
    {
     "name": "stdout",
     "output_type": "stream",
     "text": [
      "C\n",
      "E\n",
      "C\n",
      "E\n",
      "C\n",
      "E\n"
     ]
    }
   ],
   "source": [
    "decomon_model_adv = clone(vanilla_model, back_bounds=[C])"
   ]
  },
  {
   "cell_type": "code",
   "execution_count": 61,
   "id": "2a545277",
   "metadata": {},
   "outputs": [],
   "source": [
    "x_min = x_test[:1]-eps_/1000\n",
    "x_max = x_test[:1]+eps_/1000"
   ]
  },
  {
   "cell_type": "code",
   "execution_count": 62,
   "id": "a7954fb4",
   "metadata": {},
   "outputs": [],
   "source": [
    "box = np.concatenate([x_min[:,None], x_max[:,None]], 1)"
   ]
  },
  {
   "cell_type": "code",
   "execution_count": 63,
   "id": "895c7050",
   "metadata": {},
   "outputs": [
    {
     "name": "stdout",
     "output_type": "stream",
     "text": [
      "1/1 [==============================] - 0s 37ms/step\n"
     ]
    }
   ],
   "source": [
    "upper = decomon_model_adv.predict([box, C_i])"
   ]
  },
  {
   "cell_type": "code",
   "execution_count": 68,
   "id": "44ce33fb",
   "metadata": {},
   "outputs": [
    {
     "data": {
      "text/plain": [
       "array([[-0.42407389, -0.42407389, -0.42407389, ..., -0.42407389,\n",
       "        -0.42407389, -0.42407389],\n",
       "       [-0.42407389, -0.42407389, -0.42407389, ..., -0.42407389,\n",
       "        -0.42407389, -0.42407389],\n",
       "       [-0.42407389, -0.42407389, -0.42407389, ..., -0.42407389,\n",
       "        -0.42407389, -0.42407389],\n",
       "       ...,\n",
       "       [-0.42407389, -0.42407389, -0.42407389, ..., -0.42407389,\n",
       "        -0.42407389, -0.42407389],\n",
       "       [-0.42407389, -0.42407389, -0.42407389, ..., -0.42407389,\n",
       "        -0.42407389, -0.42407389],\n",
       "       [-0.42407389, -0.42407389, -0.42407389, ..., -0.42407389,\n",
       "        -0.42407389, -0.42407389]])"
      ]
     },
     "execution_count": 68,
     "metadata": {},
     "output_type": "execute_result"
    }
   ],
   "source": [
    "x_test"
   ]
  },
  {
   "cell_type": "code",
   "execution_count": 64,
   "id": "1e373f7c",
   "metadata": {},
   "outputs": [
    {
     "data": {
      "text/plain": [
       "[array([[-0.17667532, -2.7912064 , -1.2941009 , -2.0105286 , -2.439334  ,\n",
       "         -0.26534486, -3.8664474 ,  0.        , -0.17121363,  4.429975  ]],\n",
       "       dtype=float32),\n",
       " array([[-2.1759222, -5.5280433, -2.788595 , -3.753439 , -3.2562768,\n",
       "         -1.9425571, -5.514657 ,  0.       , -1.911341 ,  1.2450018]],\n",
       "       dtype=float32)]"
      ]
     },
     "execution_count": 64,
     "metadata": {},
     "output_type": "execute_result"
    }
   ],
   "source": [
    "upper"
   ]
  },
  {
   "cell_type": "markdown",
   "id": "4d17b190",
   "metadata": {},
   "source": [
    "retrive one radis bound"
   ]
  },
  {
   "cell_type": "code",
   "execution_count": 18,
   "id": "545b78ad",
   "metadata": {},
   "outputs": [
    {
     "name": "stdout",
     "output_type": "stream",
     "text": [
      "1/1 [==============================] - 0s 19ms/step\n"
     ]
    },
    {
     "data": {
      "text/plain": [
       "7"
      ]
     },
     "execution_count": 18,
     "metadata": {},
     "output_type": "execute_result"
    }
   ],
   "source": [
    "vanilla_model.predict(x_test[:1]).argmax()"
   ]
  },
  {
   "cell_type": "code",
   "execution_count": 20,
   "id": "e639f64a",
   "metadata": {},
   "outputs": [
    {
     "data": {
      "text/plain": [
       "7"
      ]
     },
     "execution_count": 20,
     "metadata": {},
     "output_type": "execute_result"
    }
   ],
   "source": [
    "y_test[:1].argmax()"
   ]
  },
  {
   "cell_type": "code",
   "execution_count": 24,
   "id": "66c5acf7",
   "metadata": {},
   "outputs": [
    {
     "name": "stdout",
     "output_type": "stream",
     "text": [
      "1/1 [==============================] - 0s 20ms/step\n"
     ]
    }
   ],
   "source": [
    "tmp = vanilla_model.predict(x_test[:1])[0]\n",
    "tmp.sort()\n",
    "eps_=(tmp[-1]-tmp[-2])/np.sqrt(2)"
   ]
  },
  {
   "cell_type": "code",
   "execution_count": 35,
   "id": "d5b72699",
   "metadata": {},
   "outputs": [],
   "source": [
    "K.set_value(convex_domain['eps'], eps_)"
   ]
  },
  {
   "cell_type": "code",
   "execution_count": 31,
   "id": "087a9c66",
   "metadata": {},
   "outputs": [],
   "source": [
    "C_ = np.diag([1.0] * 10)[None] - y_test[:, :, None]\n",
    "C_i = C_[:1]"
   ]
  },
  {
   "cell_type": "code",
   "execution_count": 32,
   "id": "9cda0191",
   "metadata": {},
   "outputs": [
    {
     "data": {
      "text/plain": [
       "(1, 10, 10)"
      ]
     },
     "execution_count": 32,
     "metadata": {},
     "output_type": "execute_result"
    }
   ],
   "source": [
    "C_i.shape"
   ]
  },
  {
   "cell_type": "code",
   "execution_count": 36,
   "id": "83bea3f4",
   "metadata": {},
   "outputs": [
    {
     "ename": "ValueError",
     "evalue": "in user code:\n\n    File \"/Users/ducoffe/miniconda3/envs/decomon_dev/lib/python3.9/site-packages/keras/engine/training.py\", line 2137, in predict_function  *\n        return step_function(self, iterator)\n    File \"/Users/ducoffe/miniconda3/envs/decomon_dev/lib/python3.9/site-packages/keras/engine/training.py\", line 2123, in step_function  **\n        outputs = model.distribute_strategy.run(run_step, args=(data,))\n    File \"/Users/ducoffe/miniconda3/envs/decomon_dev/lib/python3.9/site-packages/keras/engine/training.py\", line 2111, in run_step  **\n        outputs = model.predict_step(data)\n    File \"/Users/ducoffe/miniconda3/envs/decomon_dev/lib/python3.9/site-packages/keras/engine/training.py\", line 2079, in predict_step\n        return self(x, training=False)\n    File \"/Users/ducoffe/miniconda3/envs/decomon_dev/lib/python3.9/site-packages/keras/utils/traceback_utils.py\", line 70, in error_handler\n        raise e.with_traceback(filtered_tb) from None\n    File \"/Users/ducoffe/miniconda3/envs/decomon_dev/lib/python3.9/site-packages/keras/engine/input_spec.py\", line 295, in assert_input_compatibility\n        raise ValueError(\n\n    ValueError: Input 0 of layer \"decomon_model_3\" is incompatible with the layer: expected shape=(None, 2, 784), found shape=(None, 784)\n",
     "output_type": "error",
     "traceback": [
      "\u001b[0;31m---------------------------------------------------------------------------\u001b[0m",
      "\u001b[0;31mValueError\u001b[0m                                Traceback (most recent call last)",
      "Cell \u001b[0;32mIn[36], line 1\u001b[0m\n\u001b[0;32m----> 1\u001b[0m \u001b[43mdecomon_model_adv\u001b[49m\u001b[38;5;241;43m.\u001b[39;49m\u001b[43mpredict\u001b[49m\u001b[43m(\u001b[49m\u001b[43mx_test\u001b[49m\u001b[43m[\u001b[49m\u001b[43m:\u001b[49m\u001b[38;5;241;43m1\u001b[39;49m\u001b[43m]\u001b[49m\u001b[43m)\u001b[49m\n",
      "File \u001b[0;32m~/miniconda3/envs/decomon_dev/lib/python3.9/site-packages/keras/utils/traceback_utils.py:70\u001b[0m, in \u001b[0;36mfilter_traceback.<locals>.error_handler\u001b[0;34m(*args, **kwargs)\u001b[0m\n\u001b[1;32m     67\u001b[0m     filtered_tb \u001b[38;5;241m=\u001b[39m _process_traceback_frames(e\u001b[38;5;241m.\u001b[39m__traceback__)\n\u001b[1;32m     68\u001b[0m     \u001b[38;5;66;03m# To get the full stack trace, call:\u001b[39;00m\n\u001b[1;32m     69\u001b[0m     \u001b[38;5;66;03m# `tf.debugging.disable_traceback_filtering()`\u001b[39;00m\n\u001b[0;32m---> 70\u001b[0m     \u001b[38;5;28;01mraise\u001b[39;00m e\u001b[38;5;241m.\u001b[39mwith_traceback(filtered_tb) \u001b[38;5;28;01mfrom\u001b[39;00m \u001b[38;5;28mNone\u001b[39m\n\u001b[1;32m     71\u001b[0m \u001b[38;5;28;01mfinally\u001b[39;00m:\n\u001b[1;32m     72\u001b[0m     \u001b[38;5;28;01mdel\u001b[39;00m filtered_tb\n",
      "File \u001b[0;32m/var/folders/mv/rks11p6n68n4p1fqvdm9z5_w0000gn/T/__autograph_generated_filejv795go7.py:15\u001b[0m, in \u001b[0;36mouter_factory.<locals>.inner_factory.<locals>.tf__predict_function\u001b[0;34m(iterator)\u001b[0m\n\u001b[1;32m     13\u001b[0m \u001b[38;5;28;01mtry\u001b[39;00m:\n\u001b[1;32m     14\u001b[0m     do_return \u001b[38;5;241m=\u001b[39m \u001b[38;5;28;01mTrue\u001b[39;00m\n\u001b[0;32m---> 15\u001b[0m     retval_ \u001b[38;5;241m=\u001b[39m ag__\u001b[38;5;241m.\u001b[39mconverted_call(ag__\u001b[38;5;241m.\u001b[39mld(step_function), (ag__\u001b[38;5;241m.\u001b[39mld(\u001b[38;5;28mself\u001b[39m), ag__\u001b[38;5;241m.\u001b[39mld(iterator)), \u001b[38;5;28;01mNone\u001b[39;00m, fscope)\n\u001b[1;32m     16\u001b[0m \u001b[38;5;28;01mexcept\u001b[39;00m:\n\u001b[1;32m     17\u001b[0m     do_return \u001b[38;5;241m=\u001b[39m \u001b[38;5;28;01mFalse\u001b[39;00m\n",
      "\u001b[0;31mValueError\u001b[0m: in user code:\n\n    File \"/Users/ducoffe/miniconda3/envs/decomon_dev/lib/python3.9/site-packages/keras/engine/training.py\", line 2137, in predict_function  *\n        return step_function(self, iterator)\n    File \"/Users/ducoffe/miniconda3/envs/decomon_dev/lib/python3.9/site-packages/keras/engine/training.py\", line 2123, in step_function  **\n        outputs = model.distribute_strategy.run(run_step, args=(data,))\n    File \"/Users/ducoffe/miniconda3/envs/decomon_dev/lib/python3.9/site-packages/keras/engine/training.py\", line 2111, in run_step  **\n        outputs = model.predict_step(data)\n    File \"/Users/ducoffe/miniconda3/envs/decomon_dev/lib/python3.9/site-packages/keras/engine/training.py\", line 2079, in predict_step\n        return self(x, training=False)\n    File \"/Users/ducoffe/miniconda3/envs/decomon_dev/lib/python3.9/site-packages/keras/utils/traceback_utils.py\", line 70, in error_handler\n        raise e.with_traceback(filtered_tb) from None\n    File \"/Users/ducoffe/miniconda3/envs/decomon_dev/lib/python3.9/site-packages/keras/engine/input_spec.py\", line 295, in assert_input_compatibility\n        raise ValueError(\n\n    ValueError: Input 0 of layer \"decomon_model_3\" is incompatible with the layer: expected shape=(None, 2, 784), found shape=(None, 784)\n"
     ]
    }
   ],
   "source": [
    "decomon_model_adv.predict(x_test[:1])"
   ]
  },
  {
   "cell_type": "code",
   "execution_count": 9,
   "id": "c2d21648",
   "metadata": {},
   "outputs": [
    {
     "name": "stdout",
     "output_type": "stream",
     "text": [
      "C\n",
      "E\n",
      "C\n",
      "E\n",
      "C\n",
      "E\n"
     ]
    }
   ],
   "source": [
    "decomon_model = clone(vanilla_model, method=\"crown\")"
   ]
  },
  {
   "cell_type": "code",
   "execution_count": null,
   "id": "34ba0977",
   "metadata": {},
   "outputs": [],
   "source": []
  },
  {
   "cell_type": "code",
   "execution_count": null,
   "id": "7b594857",
   "metadata": {},
   "outputs": [],
   "source": []
  }
 ],
 "metadata": {
  "kernelspec": {
   "display_name": "Python 3 (ipykernel)",
   "language": "python",
   "name": "python3"
  },
  "language_info": {
   "codemirror_mode": {
    "name": "ipython",
    "version": 3
   },
   "file_extension": ".py",
   "mimetype": "text/x-python",
   "name": "python",
   "nbconvert_exporter": "python",
   "pygments_lexer": "ipython3",
   "version": "3.9.16"
  }
 },
 "nbformat": 4,
 "nbformat_minor": 5
}
