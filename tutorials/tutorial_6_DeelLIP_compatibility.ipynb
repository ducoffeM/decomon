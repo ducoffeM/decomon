{
 "cells": [
  {
   "cell_type": "code",
   "execution_count": 31,
   "id": "6cf3e7cf",
   "metadata": {},
   "outputs": [],
   "source": [
    "import numpy as np\n",
    "import tensorflow as tf\n",
    "import tensorflow.keras.backend as K\n",
    "from deel.lip.activations import GroupSort2\n",
    "from deel.lip.layers import (\n",
    "    FrobeniusDense,\n",
    "    ScaledL2NormPooling2D,\n",
    "    SpectralConv2D,\n",
    "    SpectralDense,\n",
    ")\n",
    "from deel.lip.losses import MulticlassHKR, MulticlassKR\n",
    "from deel.lip.model import Sequential, Model\n",
    "from tensorflow.keras.datasets import mnist\n",
    "from tensorflow.keras.layers import Flatten, Input, Activation,Lambda\n",
    "from tensorflow.keras.optimizers import Adam\n",
    "from tensorflow.keras.utils import to_categorical"
   ]
  },
  {
   "cell_type": "code",
   "execution_count": 32,
   "id": "7f6c9fa7",
   "metadata": {},
   "outputs": [],
   "source": [
    "layers = [\n",
    "    SpectralDense(100, kernel_initializer=\"orthogonal\"),\n",
    "    Activation(\"relu\"),\n",
    "    #GroupSort2(),\n",
    "    SpectralDense(100, kernel_initializer=\"orthogonal\"),\n",
    "    Activation(\"relu\"),\n",
    "    #GroupSort2(),\n",
    "    SpectralDense(32, kernel_initializer=\"orthogonal\"),\n",
    "    Activation(\"relu\"),\n",
    "    #GroupSort2(),\n",
    "    FrobeniusDense(10, activation=None, use_bias=False, kernel_initializer=\"orthogonal\"),\n",
    "]\n",
    "\n",
    "model = Sequential(\n",
    "    layers,\n",
    "    k_coef_lip=1.0,\n",
    "    name=\"hkr_model\",\n",
    ")"
   ]
  },
  {
   "cell_type": "code",
   "execution_count": 33,
   "id": "a7b084b4",
   "metadata": {},
   "outputs": [],
   "source": [
    "model.compile(\n",
    "    # decreasing alpha and increasing min_margin improve robustness (at the cost of accuracy)\n",
    "    # note also in the case of lipschitz networks, more robustness require more parameters.\n",
    "    loss=MulticlassHKR(alpha=50, min_margin=0.05),\n",
    "    optimizer=Adam(1e-3),\n",
    "    metrics=[\"accuracy\", MulticlassKR()],\n",
    ")\n",
    "\n",
    "\n",
    "# load data\n",
    "(x_train, y_train), (x_test, y_test) = mnist.load_data()\n",
    "# standardize and reshape the data\n",
    "x_train = np.expand_dims(x_train, -1)\n",
    "mean = x_train.mean()\n",
    "std = x_train.std()\n",
    "x_train = (x_train - mean) / std\n",
    "x_test = np.expand_dims(x_test, -1)\n",
    "x_test = (x_test - mean) / std\n",
    "# one hot encode the labels\n",
    "y_train = to_categorical(y_train)\n",
    "y_test = to_categorical(y_test)\n",
    "\n",
    "x_train = np.reshape(x_train, (-1, 784))\n",
    "x_test = np.reshape(x_test, (-1, 784))"
   ]
  },
  {
   "cell_type": "code",
   "execution_count": 34,
   "id": "ccadb293",
   "metadata": {},
   "outputs": [],
   "source": [
    "import deel"
   ]
  },
  {
   "cell_type": "code",
   "execution_count": 35,
   "id": "9fa3a471",
   "metadata": {},
   "outputs": [
    {
     "data": {
      "text/plain": [
       "True"
      ]
     },
     "execution_count": 35,
     "metadata": {},
     "output_type": "execute_result"
    }
   ],
   "source": [
    "from tensorflow.keras.models import Sequential, Model\n",
    "isinstance(Sequential(), Model)"
   ]
  },
  {
   "cell_type": "code",
   "execution_count": 39,
   "id": "1b0e507e",
   "metadata": {},
   "outputs": [
    {
     "data": {
      "text/plain": [
       "<keras.engine.sequential.Sequential at 0x7fbdbac69580>"
      ]
     },
     "execution_count": 39,
     "metadata": {},
     "output_type": "execute_result"
    }
   ],
   "source": [
    "vanilla_model"
   ]
  },
  {
   "cell_type": "code",
   "execution_count": 16,
   "id": "5a7d8dc7",
   "metadata": {},
   "outputs": [
    {
     "ename": "AttributeError",
     "evalue": "module 'deel.lip.model' has no attribute 'Functional'",
     "output_type": "error",
     "traceback": [
      "\u001b[0;31m---------------------------------------------------------------------------\u001b[0m",
      "\u001b[0;31mAttributeError\u001b[0m                            Traceback (most recent call last)",
      "Cell \u001b[0;32mIn[16], line 1\u001b[0m\n\u001b[0;32m----> 1\u001b[0m \u001b[38;5;28misinstance\u001b[39m(model\u001b[38;5;241m.\u001b[39m\u001b[38;5;18m__class__\u001b[39m, \u001b[43mdeel\u001b[49m\u001b[38;5;241;43m.\u001b[39;49m\u001b[43mlip\u001b[49m\u001b[38;5;241;43m.\u001b[39;49m\u001b[43mmodel\u001b[49m\u001b[38;5;241;43m.\u001b[39;49m\u001b[43mFunctional\u001b[49m)\n",
      "\u001b[0;31mAttributeError\u001b[0m: module 'deel.lip.model' has no attribute 'Functional'"
     ]
    }
   ],
   "source": [
    "isinstance(model.__class__, deel.lip.model.Functional)"
   ]
  },
  {
   "cell_type": "markdown",
   "id": "8c427977",
   "metadata": {},
   "source": [
    "# fit the model\n",
    "model.fit(\n",
    "    x_train,\n",
    "    y_train,\n",
    "    batch_size=128,\n",
    "    epochs=10,\n",
    "    validation_data=(x_test, y_test),\n",
    "    shuffle=True,\n",
    "    verbose=0,\n",
    ")"
   ]
  },
  {
   "cell_type": "code",
   "execution_count": 37,
   "id": "d61c86fd",
   "metadata": {},
   "outputs": [
    {
     "name": "stdout",
     "output_type": "stream",
     "text": [
      "313/313 [==============================] - 1s 1ms/step - loss: 8.1205 - accuracy: 0.1133 - MulticlassKR: 0.0096\n"
     ]
    },
    {
     "data": {
      "text/plain": [
       "[8.120519638061523, 0.11330000311136246, 0.009622250683605671]"
      ]
     },
     "execution_count": 37,
     "metadata": {},
     "output_type": "execute_result"
    }
   ],
   "source": [
    "model.evaluate(x_test, y_test)"
   ]
  },
  {
   "cell_type": "code",
   "execution_count": 38,
   "id": "b17e3fe8",
   "metadata": {},
   "outputs": [],
   "source": [
    "# once training is finished you can convert\n",
    "# SpectralDense layers into Dense layers and SpectralConv2D into Conv2D\n",
    "# which optimize performance for inference\n",
    "vanilla_model = model.vanilla_export()"
   ]
  },
  {
   "cell_type": "code",
   "execution_count": 6,
   "id": "03b84681",
   "metadata": {},
   "outputs": [
    {
     "name": "stdout",
     "output_type": "stream",
     "text": [
      "Model: \"hkr_model\"\n",
      "_________________________________________________________________\n",
      " Layer (type)                Output Shape              Param #   \n",
      "=================================================================\n",
      " spectral_dense (Dense)      (None, 100)               78500     \n",
      "                                                                 \n",
      " activation (Activation)     (None, 100)               0         \n",
      "                                                                 \n",
      " spectral_dense_1 (Dense)    (None, 100)               10100     \n",
      "                                                                 \n",
      " activation_1 (Activation)   (None, 100)               0         \n",
      "                                                                 \n",
      " spectral_dense_2 (Dense)    (None, 32)                3232      \n",
      "                                                                 \n",
      " activation_2 (Activation)   (None, 32)                0         \n",
      "                                                                 \n",
      " frobenius_dense (Dense)     (None, 10)                320       \n",
      "                                                                 \n",
      "=================================================================\n",
      "Total params: 92,152\n",
      "Trainable params: 92,152\n",
      "Non-trainable params: 0\n",
      "_________________________________________________________________\n"
     ]
    }
   ],
   "source": [
    "vanilla_model.summary()"
   ]
  },
  {
   "cell_type": "code",
   "execution_count": 7,
   "id": "874e2bca",
   "metadata": {},
   "outputs": [],
   "source": [
    "from decomon import get_adv_box\n",
    "from decomon.models import clone"
   ]
  },
  {
   "cell_type": "code",
   "execution_count": 8,
   "id": "35faa8c3",
   "metadata": {},
   "outputs": [
    {
     "name": "stdout",
     "output_type": "stream",
     "text": [
      "1/1 [==============================] - 0s 65ms/step\n"
     ]
    }
   ],
   "source": [
    "tmp = vanilla_model.predict(x_test[:1])[0]\n",
    "tmp.sort()\n",
    "eps_ = (tmp[-1] - tmp[-2]) / (2)"
   ]
  },
  {
   "cell_type": "code",
   "execution_count": 9,
   "id": "289e7286",
   "metadata": {},
   "outputs": [
    {
     "data": {
      "text/plain": [
       "0.11633595824241638"
      ]
     },
     "execution_count": 9,
     "metadata": {},
     "output_type": "execute_result"
    }
   ],
   "source": [
    "eps_"
   ]
  },
  {
   "cell_type": "code",
   "execution_count": 10,
   "id": "f06ea3ba",
   "metadata": {},
   "outputs": [
    {
     "name": "stdout",
     "output_type": "stream",
     "text": [
      "> \u001b[0;32m/var/folders/mv/rks11p6n68n4p1fqvdm9z5_w0000gn/T/ipykernel_18038/3993656677.py\u001b[0m(1)\u001b[0;36m<module>\u001b[0;34m()\u001b[0m\n",
      "\u001b[0;32m----> 1 \u001b[0;31m\u001b[0;32mfor\u001b[0m \u001b[0mi\u001b[0m \u001b[0;32min\u001b[0m \u001b[0mrange\u001b[0m\u001b[0;34m(\u001b[0m\u001b[0;36m784\u001b[0m\u001b[0;34m)\u001b[0m\u001b[0;34m:\u001b[0m\u001b[0;34m\u001b[0m\u001b[0;34m\u001b[0m\u001b[0m\n",
      "\u001b[0m\u001b[0;32m      2 \u001b[0;31m    \u001b[0mmask\u001b[0m \u001b[0;34m=\u001b[0m \u001b[0mnp\u001b[0m\u001b[0;34m.\u001b[0m\u001b[0mzeros\u001b[0m\u001b[0;34m(\u001b[0m\u001b[0;34m(\u001b[0m\u001b[0;36m1\u001b[0m\u001b[0;34m,\u001b[0m \u001b[0;36m784\u001b[0m\u001b[0;34m)\u001b[0m\u001b[0;34m)\u001b[0m\u001b[0;34m\u001b[0m\u001b[0;34m\u001b[0m\u001b[0m\n",
      "\u001b[0m\u001b[0;32m      3 \u001b[0;31m    \u001b[0mmask\u001b[0m\u001b[0;34m[\u001b[0m\u001b[0;36m0\u001b[0m\u001b[0;34m,\u001b[0m \u001b[0mi\u001b[0m\u001b[0;34m]\u001b[0m\u001b[0;34m=\u001b[0m \u001b[0meps_\u001b[0m\u001b[0;34m\u001b[0m\u001b[0;34m\u001b[0m\u001b[0m\n",
      "\u001b[0m\u001b[0;32m      4 \u001b[0;31m    \u001b[0mlabel\u001b[0m \u001b[0;34m=\u001b[0m \u001b[0mnp\u001b[0m\u001b[0;34m.\u001b[0m\u001b[0margmax\u001b[0m\u001b[0;34m(\u001b[0m\u001b[0mvanilla_model\u001b[0m\u001b[0;34m.\u001b[0m\u001b[0mpredict\u001b[0m\u001b[0;34m(\u001b[0m\u001b[0mx_test\u001b[0m\u001b[0;34m[\u001b[0m\u001b[0;34m:\u001b[0m\u001b[0;36m1\u001b[0m\u001b[0;34m]\u001b[0m\u001b[0;34m+\u001b[0m\u001b[0mmask\u001b[0m\u001b[0;34m,\u001b[0m \u001b[0mverbose\u001b[0m\u001b[0;34m=\u001b[0m\u001b[0;36m0\u001b[0m\u001b[0;34m)\u001b[0m\u001b[0;34m)\u001b[0m\u001b[0;34m\u001b[0m\u001b[0;34m\u001b[0m\u001b[0m\n",
      "\u001b[0m\u001b[0;32m      5 \u001b[0;31m    \u001b[0;32mif\u001b[0m \u001b[0mlabel\u001b[0m\u001b[0;34m!=\u001b[0m\u001b[0;36m7\u001b[0m\u001b[0;34m:\u001b[0m\u001b[0;34m\u001b[0m\u001b[0;34m\u001b[0m\u001b[0m\n",
      "\u001b[0m\n",
      "ipdb> q\n"
     ]
    }
   ],
   "source": [
    "for i in range(784):\n",
    "    mask = np.zeros((1, 784))\n",
    "    mask[0, i]= eps_\n",
    "    label = np.argmax(vanilla_model.predict(x_test[:1]+mask, verbose=0))\n",
    "    if label!=7:\n",
    "        import pdb; pdb.set_trace()\n"
   ]
  },
  {
   "cell_type": "code",
   "execution_count": null,
   "id": "e51ddeba",
   "metadata": {},
   "outputs": [],
   "source": []
  },
  {
   "cell_type": "code",
   "execution_count": 10,
   "id": "788fb582",
   "metadata": {},
   "outputs": [],
   "source": [
    "C = Input((10, 10))\n",
    "convex_domain = {\"name\": \"ball\", \"p\": 2, \"eps\": tf.Variable(eps_, dtype='float32')}"
   ]
  },
  {
   "cell_type": "code",
   "execution_count": 12,
   "id": "020e87b8",
   "metadata": {},
   "outputs": [
    {
     "name": "stdout",
     "output_type": "stream",
     "text": [
      "> \u001b[0;32m/Users/ducoffe/Documents/Code/EMACS/decomon/src/decomon/models/forward_cloning.py\u001b[0m(204)\u001b[0;36mconvert_forward_functional_model\u001b[0;34m()\u001b[0m\n",
      "\u001b[0;32m    202 \u001b[0;31m                    \u001b[0moutput\u001b[0m \u001b[0;34m=\u001b[0m \u001b[0mconverted_layer\u001b[0m\u001b[0;34m(\u001b[0m\u001b[0mprepare_inputs_for_layer\u001b[0m\u001b[0;34m(\u001b[0m\u001b[0moutput\u001b[0m\u001b[0;34m)\u001b[0m\u001b[0;34m)\u001b[0m\u001b[0;34m\u001b[0m\u001b[0;34m\u001b[0m\u001b[0m\n",
      "\u001b[0m\u001b[0;32m    203 \u001b[0;31m                    \u001b[0;32mif\u001b[0m \u001b[0mlen\u001b[0m\u001b[0;34m(\u001b[0m\u001b[0mconverted_layers\u001b[0m\u001b[0;34m)\u001b[0m \u001b[0;34m>\u001b[0m \u001b[0;36m1\u001b[0m\u001b[0;34m:\u001b[0m\u001b[0;34m\u001b[0m\u001b[0;34m\u001b[0m\u001b[0m\n",
      "\u001b[0m\u001b[0;32m--> 204 \u001b[0;31m                        \u001b[0moutput_map\u001b[0m\u001b[0;34m[\u001b[0m\u001b[0;34mf\"{id(node)}_{converted_layer.name}\"\u001b[0m\u001b[0;34m]\u001b[0m \u001b[0;34m=\u001b[0m \u001b[0mwrap_outputs_from_layer_in_list\u001b[0m\u001b[0;34m(\u001b[0m\u001b[0moutput\u001b[0m\u001b[0;34m)\u001b[0m\u001b[0;34m\u001b[0m\u001b[0;34m\u001b[0m\u001b[0m\n",
      "\u001b[0m\u001b[0;32m    205 \u001b[0;31m                \u001b[0mlayer_map\u001b[0m\u001b[0;34m[\u001b[0m\u001b[0mid\u001b[0m\u001b[0;34m(\u001b[0m\u001b[0mnode\u001b[0m\u001b[0;34m)\u001b[0m\u001b[0;34m]\u001b[0m \u001b[0;34m=\u001b[0m \u001b[0mconverted_layers\u001b[0m\u001b[0;34m\u001b[0m\u001b[0;34m\u001b[0m\u001b[0m\n",
      "\u001b[0m\u001b[0;32m    206 \u001b[0;31m            \u001b[0moutput_map\u001b[0m\u001b[0;34m[\u001b[0m\u001b[0mid\u001b[0m\u001b[0;34m(\u001b[0m\u001b[0mnode\u001b[0m\u001b[0;34m)\u001b[0m\u001b[0;34m]\u001b[0m \u001b[0;34m=\u001b[0m \u001b[0mwrap_outputs_from_layer_in_list\u001b[0m\u001b[0;34m(\u001b[0m\u001b[0moutput\u001b[0m\u001b[0;34m)\u001b[0m\u001b[0;34m\u001b[0m\u001b[0;34m\u001b[0m\u001b[0m\n",
      "\u001b[0m\n",
      "ipdb> p output\n",
      "[<KerasTensor: shape=(None, 784) dtype=float32 (created by layer 'spectral_dense_input_decomon_0')>, <KerasTensor: shape=(None, 784) dtype=float32 (created by layer 'spectral_dense_input_decomon_0')>, <KerasTensor: shape=(None, 784, 784) dtype=float32 (created by layer 'spectral_dense_input_decomon_0')>, <KerasTensor: shape=(None, 784) dtype=float32 (created by layer 'spectral_dense_input_decomon_0')>, <KerasTensor: shape=(None, 784) dtype=float32 (created by layer 'spectral_dense_input_decomon_0')>, <KerasTensor: shape=(None, 784, 784) dtype=float32 (created by layer 'spectral_dense_input_decomon_0')>, <KerasTensor: shape=(None, 784) dtype=float32 (created by layer 'spectral_dense_input_decomon_0')>]\n",
      "ipdb> p layer.name\n",
      "'spectral_dense_input'\n",
      "ipdb> q\n"
     ]
    }
   ],
   "source": [
    "decomon_model_adv = clone(vanilla_model, back_bounds=[C], convex_domain=convex_domain, method='forward-hybrid')"
   ]
  },
  {
   "cell_type": "code",
   "execution_count": 67,
   "id": "2ec3c4e3",
   "metadata": {},
   "outputs": [],
   "source": [
    "C_ = np.diag([1.0] * 10)[None] - y_test[:, :, None]\n",
    "C_i = C_[:1]"
   ]
  },
  {
   "cell_type": "code",
   "execution_count": 69,
   "id": "e7b6aa9f",
   "metadata": {},
   "outputs": [
    {
     "name": "stdout",
     "output_type": "stream",
     "text": [
      "1/1 [==============================] - 0s 41ms/step\n"
     ]
    },
    {
     "data": {
      "text/plain": [
       "array([[1939.5995, 1300.9492, 1850.9507, 1886.1985, 1682.9812, 2235.8376,\n",
       "        2107.2407,    0.    , 2054.0623, 1681.4781]], dtype=float32)"
      ]
     },
     "execution_count": 69,
     "metadata": {},
     "output_type": "execute_result"
    }
   ],
   "source": [
    "decomon_model_adv.predict([x_test[:1], C_i])[0]"
   ]
  },
  {
   "cell_type": "code",
   "execution_count": null,
   "id": "cf26f626",
   "metadata": {},
   "outputs": [],
   "source": []
  },
  {
   "cell_type": "code",
   "execution_count": 57,
   "id": "ecd8947b",
   "metadata": {},
   "outputs": [],
   "source": [
    "K.set_value(convex_domain['eps'], 1.)"
   ]
  },
  {
   "cell_type": "code",
   "execution_count": null,
   "id": "7d81d8e4",
   "metadata": {},
   "outputs": [],
   "source": [
    "array([[4466.2153, 5305.5625, 4413.2036, 5390.5273, 4907.2407, 4964.0195,\n",
    "         5451.3735,    0.    , 5529.8247, 6102.4473]], dtype=float32)"
   ]
  },
  {
   "cell_type": "code",
   "execution_count": null,
   "id": "8ede189f",
   "metadata": {},
   "outputs": [],
   "source": []
  },
  {
   "cell_type": "code",
   "execution_count": null,
   "id": "a7954fb4",
   "metadata": {},
   "outputs": [],
   "source": [
    "box = np.concatenate([x_min[:, None], x_max[:, None]], 1)"
   ]
  },
  {
   "cell_type": "code",
   "execution_count": null,
   "id": "895c7050",
   "metadata": {},
   "outputs": [],
   "source": [
    "upper = decomon_model_adv.predict([box, C_i])"
   ]
  },
  {
   "cell_type": "code",
   "execution_count": null,
   "id": "44ce33fb",
   "metadata": {},
   "outputs": [],
   "source": [
    "x_test"
   ]
  },
  {
   "cell_type": "code",
   "execution_count": null,
   "id": "1e373f7c",
   "metadata": {},
   "outputs": [],
   "source": [
    "upper"
   ]
  },
  {
   "cell_type": "markdown",
   "id": "4d17b190",
   "metadata": {},
   "source": [
    "retrive one radis bound"
   ]
  },
  {
   "cell_type": "code",
   "execution_count": null,
   "id": "545b78ad",
   "metadata": {},
   "outputs": [],
   "source": [
    "vanilla_model.predict(x_test[:1]).argmax()"
   ]
  },
  {
   "cell_type": "code",
   "execution_count": null,
   "id": "e639f64a",
   "metadata": {},
   "outputs": [],
   "source": [
    "y_test[:1].argmax()"
   ]
  },
  {
   "cell_type": "code",
   "execution_count": null,
   "id": "66c5acf7",
   "metadata": {},
   "outputs": [],
   "source": [
    "tmp = vanilla_model.predict(x_test[:1])[0]\n",
    "tmp.sort()\n",
    "eps_ = (tmp[-1] - tmp[-2]) / np.sqrt(2)"
   ]
  },
  {
   "cell_type": "code",
   "execution_count": null,
   "id": "d5b72699",
   "metadata": {},
   "outputs": [],
   "source": []
  },
  {
   "cell_type": "code",
   "execution_count": null,
   "id": "087a9c66",
   "metadata": {},
   "outputs": [],
   "source": []
  },
  {
   "cell_type": "code",
   "execution_count": null,
   "id": "9cda0191",
   "metadata": {},
   "outputs": [],
   "source": [
    "C_i.shape"
   ]
  },
  {
   "cell_type": "code",
   "execution_count": null,
   "id": "83bea3f4",
   "metadata": {},
   "outputs": [],
   "source": [
    "decomon_model_adv.predict(x_test[:1])"
   ]
  },
  {
   "cell_type": "code",
   "execution_count": null,
   "id": "c2d21648",
   "metadata": {},
   "outputs": [],
   "source": [
    "decomon_model = clone(vanilla_model, method=\"crown\")"
   ]
  },
  {
   "cell_type": "code",
   "execution_count": null,
   "id": "34ba0977",
   "metadata": {},
   "outputs": [],
   "source": []
  },
  {
   "cell_type": "code",
   "execution_count": null,
   "id": "7b594857",
   "metadata": {},
   "outputs": [],
   "source": []
  }
 ],
 "metadata": {
  "kernelspec": {
   "display_name": "Python 3 (ipykernel)",
   "language": "python",
   "name": "python3"
  },
  "language_info": {
   "codemirror_mode": {
    "name": "ipython",
    "version": 3
   },
   "file_extension": ".py",
   "mimetype": "text/x-python",
   "name": "python",
   "nbconvert_exporter": "python",
   "pygments_lexer": "ipython3",
   "version": "3.9.16"
  }
 },
 "nbformat": 4,
 "nbformat_minor": 5
}
